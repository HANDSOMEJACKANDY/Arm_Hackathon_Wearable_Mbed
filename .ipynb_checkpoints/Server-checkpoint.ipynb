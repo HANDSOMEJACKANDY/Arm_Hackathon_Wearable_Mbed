{
 "cells": [
  {
   "cell_type": "code",
   "execution_count": 6,
   "metadata": {},
   "outputs": [
    {
     "name": "stdout",
     "output_type": "stream",
     "text": [
      "Collecting SocketServer\n",
      "\u001b[31m  Could not find a version that satisfies the requirement SocketServer (from versions: )\u001b[0m\n",
      "\u001b[31mNo matching distribution found for SocketServer\u001b[0m\n"
     ]
    },
    {
     "ename": "ModuleNotFoundError",
     "evalue": "No module named 'SocketServer'",
     "output_type": "error",
     "traceback": [
      "\u001b[0;31m---------------------------------------------------------------------------\u001b[0m",
      "\u001b[0;31mModuleNotFoundError\u001b[0m                       Traceback (most recent call last)",
      "\u001b[0;32m<ipython-input-6-8c7f362f2b20>\u001b[0m in \u001b[0;36m<module>\u001b[0;34m()\u001b[0m\n\u001b[1;32m      1\u001b[0m \u001b[0;32mfrom\u001b[0m \u001b[0mhttp\u001b[0m\u001b[0;34m.\u001b[0m\u001b[0mserver\u001b[0m \u001b[0;32mimport\u001b[0m \u001b[0mBaseHTTPRequestHandler\u001b[0m\u001b[0;34m,\u001b[0m \u001b[0mHTTPServer\u001b[0m\u001b[0;34m\u001b[0m\u001b[0m\n\u001b[1;32m      2\u001b[0m \u001b[0mget_ipython\u001b[0m\u001b[0;34m(\u001b[0m\u001b[0;34m)\u001b[0m\u001b[0;34m.\u001b[0m\u001b[0msystem\u001b[0m\u001b[0;34m(\u001b[0m\u001b[0;34m'pip install SocketServer'\u001b[0m\u001b[0;34m)\u001b[0m\u001b[0;34m\u001b[0m\u001b[0m\n\u001b[0;32m----> 3\u001b[0;31m \u001b[0;32mimport\u001b[0m \u001b[0mSocketServer\u001b[0m\u001b[0;34m\u001b[0m\u001b[0m\n\u001b[0m\u001b[1;32m      4\u001b[0m \u001b[0;32mimport\u001b[0m \u001b[0msocket\u001b[0m\u001b[0;34m\u001b[0m\u001b[0m\n\u001b[1;32m      5\u001b[0m \u001b[0;34m\u001b[0m\u001b[0m\n",
      "\u001b[0;31mModuleNotFoundError\u001b[0m: No module named 'SocketServer'"
     ]
    }
   ],
   "source": [
    "from http.server import BaseHTTPRequestHandler, HTTPServer\n",
    "import socketserver\n",
    "import socket\n",
    " \n",
    "class MyHandler(BaseHTTPRequestHandler):\n",
    "    def do_POST(self):\n",
    "        content = b\"POST: Hello, Mbed!\"\n",
    "        self.send_response(200)\n",
    "        self.send_header('Content-type', 'text/plain')\n",
    "        self.send_header('Content-Length', len(content))\n",
    "        self.end_headers()\n",
    "        self.wfile.write(content)\n",
    "        return\n",
    "\n",
    "    def do_GET(self):\n",
    "        content = b\"GET: Hello, Mbed!\"\n",
    "        self.send_response(200)\n",
    "        self.send_header('Content-type', 'text/plain')\n",
    "        self.send_header('Content-Length', len(content))\n",
    "        self.end_headers()\n",
    "        self.wfile.write(content)\n",
    "        return\n",
    " \n",
    "    def do_PUT(self):\n",
    "        content = b\"PUT: Hello, Mbed!\"\n",
    "        self.send_response(200)\n",
    "        self.send_header('Content-type', 'text/plain')\n",
    "        self.send_header('Content-Length', len(content))\n",
    "        self.end_headers()\n",
    "        self.wfile.write(content)\n",
    "        return\n",
    "\n",
    "def run():\n",
    "    httpd = HTTPServer(('', 8080), MyHandler)\n",
    "    print(\"HTTP server running on port 8080\")\n",
    "    print(\"Your IP address is: \", socket.gethostbyname(socket.gethostname()))\n",
    "    httpd.serve_forever()\n",
    " \n",
    "if __name__ == '__main__':\n",
    "    run()"
   ]
  },
  {
   "cell_type": "code",
   "execution_count": null,
   "metadata": {
    "collapsed": true
   },
   "outputs": [],
   "source": []
  }
 ],
 "metadata": {
  "kernelspec": {
   "display_name": "tensorflow",
   "language": "python",
   "name": "tensorflow"
  },
  "language_info": {
   "codemirror_mode": {
    "name": "ipython",
    "version": 3
   },
   "file_extension": ".py",
   "mimetype": "text/x-python",
   "name": "python",
   "nbconvert_exporter": "python",
   "pygments_lexer": "ipython3",
   "version": "3.5.4"
  }
 },
 "nbformat": 4,
 "nbformat_minor": 2
}
